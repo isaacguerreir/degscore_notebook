{
  "nbformat": 4,
  "nbformat_minor": 0,
  "metadata": {
    "colab": {
      "provenance": [],
      "authorship_tag": "ABX9TyOAoU+mEk+HiyZt7FdI6U8v",
      "include_colab_link": true
    },
    "kernelspec": {
      "name": "python3",
      "display_name": "Python 3"
    },
    "language_info": {
      "name": "python"
    }
  },
  "cells": [
    {
      "cell_type": "markdown",
      "metadata": {
        "id": "view-in-github",
        "colab_type": "text"
      },
      "source": [
        "<a href=\"https://colab.research.google.com/github/isaacguerreir/degscore_notebook/blob/prime/Calculate_DegScore.ipynb\" target=\"_parent\"><img src=\"https://colab.research.google.com/assets/colab-badge.svg\" alt=\"Open In Colab\"/></a>"
      ]
    },
    {
      "cell_type": "markdown",
      "source": [
        "\n",
        "# Calculate DegScore"
      ],
      "metadata": {
        "id": "g-OLm2dBzjdT"
      }
    },
    {
      "cell_type": "markdown",
      "source": [
        "## Configuration"
      ],
      "metadata": {
        "id": "2GsGSnuTzWC0"
      }
    },
    {
      "cell_type": "code",
      "execution_count": null,
      "metadata": {
        "id": "ecfv7Um6wP0q"
      },
      "outputs": [],
      "source": [
        "!git clone https://github.com/LinearFold/LinearFold.git\n",
        "!cd ./LinearFold && make\n",
        "!mkdir linearfold\n",
        "!mv ./LinearFold/bin/linearfold_c ./linearfold/linearfold_c"
      ]
    },
    {
      "cell_type": "code",
      "source": [
        "#!/usr/bin/env python3\n",
        "\n",
        "import subprocess\n",
        "import os\n",
        "import re\n",
        "\n",
        "\n",
        "class LinearFold:\n",
        "    def __init__(self, sequence, structure, mfe):\n",
        "        self.sequence = sequence\n",
        "        self.structure = structure\n",
        "        self.mfe = mfe\n",
        "\n",
        "\n",
        "def linearfold(sequence: str):\n",
        "    beamsize = str(100)\n",
        "    is_sharpturn = '0'\n",
        "    is_verbose = '0'\n",
        "    is_eval = '0'\n",
        "    is_constraints = '0'\n",
        "    zuker_subopt = '0'\n",
        "    delta = str(5.0)\n",
        "    shape_file_path = ''\n",
        "    is_fasta = '0'\n",
        "    dangles = str(2)\n",
        "\n",
        "    path = os.path.dirname(os.path.abspath('./linearfold/linearfold_c'))\n",
        "    cmd = [\n",
        "        \"%s/%s\" % (path, './linearfold_c'),\n",
        "        beamsize,\n",
        "        is_sharpturn,\n",
        "        is_verbose,\n",
        "        is_eval,\n",
        "        is_constraints,\n",
        "        zuker_subopt,\n",
        "        delta,\n",
        "        shape_file_path,\n",
        "        is_fasta,\n",
        "        dangles\n",
        "    ]\n",
        "    seqarg = subprocess.Popen([\"echo\", sequence], stdout=subprocess.PIPE)\n",
        "    process = subprocess.run(cmd, stdin=seqarg.stdout, capture_output=True)\n",
        "    outputs = str(\n",
        "                process.stdout,\n",
        "                'utf-8'\n",
        "              ).split()\n",
        "    print(process.stdout)\n",
        "    print(process.stderr)\n",
        "\n",
        "    return LinearFold(outputs[0], outputs[1], re.sub(r'[()]', '', outputs[2]))"
      ],
      "metadata": {
        "id": "Qe9uv9t4w-0G"
      },
      "execution_count": null,
      "outputs": []
    },
    {
      "cell_type": "code",
      "source": [
        "import numpy as np\n",
        "import re\n",
        "\n",
        "def convert_structure_to_bps(secstruct):\n",
        "\n",
        "    bps = []\n",
        "\n",
        "    left_delimiters = ['(','{','[']\n",
        "    right_delimiters = [')','}',']']\n",
        "\n",
        "    for (left_delim, right_delim) in list(zip(left_delimiters, right_delimiters)):\n",
        "\n",
        "        left_list = []\n",
        "        for i, char in enumerate(secstruct):\n",
        "            if char == left_delim:\n",
        "                left_list.append(i)\n",
        "\n",
        "            elif char == right_delim:\n",
        "                bps.append([left_list[-1],i])\n",
        "                left_list = left_list[:-1]\n",
        "\n",
        "        assert len(left_list)==0\n",
        "\n",
        "    return bps\n",
        "\n",
        "def secstruct_to_partner(secstruct):\n",
        "    '''Convert secondary structure string to partner array.\n",
        "    I.E. ((.)) -> [4,3,-1,1,0]\n",
        "    '''\n",
        "    bps = convert_structure_to_bps(secstruct)\n",
        "    partner_vec = -1*np.ones([len(secstruct)])\n",
        "\n",
        "    for (i,j) in bps:\n",
        "        partner_vec[i] = j\n",
        "        partner_vec[j] = i\n",
        "\n",
        "    return partner_vec\n",
        "\n",
        "def write_loop_assignments(dbn_string):\n",
        "    '''Input: dot-parenthesis string\n",
        "    Output: bpRNA-style loop type assignments'''\n",
        "\n",
        "    pair_partners = secstruct_to_partner(dbn_string)\n",
        "\n",
        "    #print(pair_partners)\n",
        "    bprna_string=['u']*len(dbn_string)\n",
        "\n",
        "    # assign stems\n",
        "    for s_ind, s in enumerate(dbn_string):\n",
        "        if s != '.':\n",
        "            bprna_string[s_ind] = 'S'\n",
        "\n",
        "    # get loop regions\n",
        "\n",
        "    while 'u' in ''.join(bprna_string):\n",
        "        #print(''.join(bprna_string))\n",
        "\n",
        "        obj = re.search(r\"uu*\", ''.join(bprna_string))\n",
        "        start_ind, end_ind = obj.start(), obj.end()\n",
        "\n",
        "        n_open_hps = dbn_string[:start_ind].count(')') - dbn_string[:start_ind].count('(')\n",
        "\n",
        "        if n_open_hps == 0:\n",
        "            bprna_string[start_ind:end_ind] = 'E'*(end_ind-start_ind)\n",
        "\n",
        "        else:\n",
        "\n",
        "            last_stem_pairing = int(pair_partners[start_ind - 1])\n",
        "            next_stem_pairing = int(pair_partners[end_ind ])\n",
        "\n",
        "            if last_stem_pairing == end_ind:\n",
        "                bprna_string[start_ind:end_ind] = 'H'*(end_ind-start_ind)\n",
        "\n",
        "            elif (last_stem_pairing - 1 == next_stem_pairing):\n",
        "                bprna_string[start_ind:end_ind] = 'B'*(end_ind-start_ind)\n",
        "\n",
        "            elif dbn_string[start_ind-1]==')' and dbn_string[end_ind]=='(':\n",
        "                bprna_string[start_ind:end_ind] = 'M'*(end_ind-start_ind)\n",
        "\n",
        "            else:\n",
        "                if dbn_string[next_stem_pairing+1:last_stem_pairing] == '.'*(last_stem_pairing - next_stem_pairing-1):\n",
        "                    bprna_string[start_ind:end_ind] = 'I'*(end_ind-start_ind)\n",
        "                    bprna_string[next_stem_pairing+1:last_stem_pairing] = 'I'*(last_stem_pairing - next_stem_pairing-1)\n",
        "\n",
        "                else:\n",
        "                    bprna_string[start_ind:end_ind] = 'M'*(end_ind - start_ind)\n",
        "    return ''.join(bprna_string)"
      ],
      "metadata": {
        "id": "Oxc5jNoIxfv9"
      },
      "execution_count": null,
      "outputs": []
    },
    {
      "cell_type": "code",
      "source": [
        "import numpy as np\n",
        "import sys, os\n",
        "\n",
        "try:\n",
        "    from arnie.mfe import mfe\n",
        "except ImportError:\n",
        "    print('Warning: could not find Arnie for DegScore structure prediction.\\n\\\n",
        "        Secondary structures must be input in DegScore class.')\n",
        "\n",
        "DEBUG=False\n",
        "\n",
        "coeffs_2_1 = [-0.020, -0.027, -0.026, -0.017, 0.005, 0.000, 0.005, -0.006, -0.011, 0.006, 0.031,\n",
        " 0.021, 0.036, 0.034, 0.026, -0.024, -0.005, 0.028, -0.022, -0.015, -0.043, -0.043, -0.029, -0.026,\n",
        "  0.016, -0.077, -0.001, -0.016, 0.031, -0.001, 0.064, 0.065, 0.064, 0.069, 0.029, 0.044, -0.003,\n",
        "  0.012, -0.006, -0.004, -0.072, -0.066, -0.061, -0.065, 0.014, 0.037, 0.051, 0.017, 0.054, 0.037,\n",
        " -0.065, -0.068, -0.058, -0.041, -0.014, 0.075, -0.007, 0.005, -0.010, -0.006, 0.009, 0.014, 0.019,\n",
        "  0.037, 0.005, -0.097, 0.013, -0.005, 0.001, 0.002, -0.026, -0.026, -0.036, -0.008, 0.041, 0.067, 0.017,\n",
        "   0.007, 0.034, 0.028, -0.077, -0.079, -0.092, -0.064, 0.012, 0.022, 0.041, 0.041, 0.057, 0.038, 0.010,\n",
        "    0.017, -0.004, 0.050, -0.018, -0.144, -0.001, 0.009, 0.013, -0.017, -0.012, -0.019, -0.047, -0.032,\n",
        "     0.124, 0.164, 0.089, 0.063, 0.076, 0.055, 0.012, 0.021, -0.038, -0.050, 0.014, -0.044, -0.023,\n",
        "      -0.015, -0.037, -0.059, -0.027, 0.042, 0.003, -0.017, -0.090, -0.057, -0.140, -0.005, -0.031,\n",
        " -0.256, -0.353, -0.178, -0.503, -0.506, -0.090, -0.058, -0.032, -0.035, 0.015, -0.070,\n",
        "0.048, 0.002, -0.071, 0.005, -0.002, 0.024, 0.000, -0.007, -0.014, -0.029, 0.033, 0.011,\n",
        " 0.006, -0.039, -0.023, 0.046, 0.009, 0.009, 0.003, -0.002, 0.015, 0.022, 0.007, 0.015,\n",
        "  -0.003, -0.121, -0.014, -0.021, -0.016, -0.010, -0.046, -0.059, -0.031, -0.013, 0.005,\n",
        "   0.051, -0.006, 0.003, 0.009, -0.006, 0.001, 0.021, 0.025, 0.017, 0.012, 0.033, -0.003,\n",
        "-0.030, 0.002, 0.008, -0.003, -0.001, 0.003, 0.007, 0.004, -0.099, -0.003, 0.006,\n",
        " -0.018, -0.002, -0.018, -0.023, -0.016, -0.008, -0.013, -0.027, -0.006, 0.005,\n",
        "  0.011, -0.001, 0.035, 0.024, 0.042, 0.040, -0.010, 0.270, 0.006, -0.040, -0.001,\n",
        "  -0.012, -0.042, -0.040, -0.015, -0.021, 0.008, -0.294, -0.005, -0.008, 0.001,\n",
        " -0.014, -0.037, -0.047, -0.034, -0.028, 0.025, 0.144, 0.016, 0.023, 0.026, 0.015,\n",
        "  0.014, 0.009, 0.020, 0.031, 0.026, -0.096, 0.002, -0.012, 0.030, 0.000]\n",
        "\n",
        "k_deg_m, k_deg_b = 0.002170959651184987, 0.05220886935630193\n",
        "\n",
        "def encode_input(sequence, bprna_string, window_size=12, pad=0, seq=True, struct=True):\n",
        "    '''Creat input/output for regression model for predicting structure probing data.\n",
        "    Inputs:\n",
        "\n",
        "    sequence (str): RNA sequence\n",
        "    bprna_string (str): loop assignment string (HEIMBS)\n",
        "    window_size: size of window (in one direction). so window_size=1 is a total window size of 3.\n",
        "    pad: number of nucleotides at start to not include\n",
        "    seq (bool): include sequence encoding\n",
        "    struct (bool): include bpRNA structure encoding\n",
        "\n",
        "    Outputs:\n",
        "    Input array (n_samples x n_features): array of windowed input features\n",
        "    feature_names (list): feature names\n",
        "    '''\n",
        "\n",
        "    assert len(sequence) == len(bprna_string)\n",
        "\n",
        "    feature_kernel=[]\n",
        "    if seq:\n",
        "        feature_kernel.extend(['A','U','G','C'])\n",
        "    if struct:\n",
        "        feature_kernel.extend(['H','E','I','M','B','S'])\n",
        "\n",
        "    inpts = []\n",
        "    labels = []\n",
        "\n",
        "    #for i, row in df.iterrows():\n",
        "\n",
        "    length = len(sequence)\n",
        "\n",
        "    arr = np.zeros([length,len(feature_kernel)])\n",
        "\n",
        "    for index in range(length):\n",
        "        ctr=0\n",
        "\n",
        "        #encode sequence\n",
        "        if seq:\n",
        "            for char in ['A','U','G','C']:\n",
        "                if sequence[index]==char:\n",
        "                    arr[index,ctr]+=1\n",
        "                ctr+=1\n",
        "\n",
        "        if struct:\n",
        "            for char in ['H','E','I','M','B','S']:\n",
        "                if bprna_string[index]==char:\n",
        "                    arr[index,ctr]+=1\n",
        "                ctr+=1\n",
        "\n",
        "    # add zero padding to the side\n",
        "\n",
        "    padded_arr = np.vstack([np.zeros([window_size,len(feature_kernel)]), arr, np.zeros([window_size,len(feature_kernel)])])\n",
        "\n",
        "    for index in range(length):\n",
        "        new_index = index+window_size-pad\n",
        "        tmp = padded_arr[new_index-window_size:new_index+window_size+1]\n",
        "        inpts.append(tmp.flatten())\n",
        "\n",
        "    return np.array(inpts)\n",
        "\n",
        "def create_U_mask(seq):\n",
        "    mask=[]\n",
        "    for i, x in enumerate(list(seq)):\n",
        "        if x!='U':\n",
        "            mask.append(i)\n",
        "    return np.array(mask)\n",
        "\n",
        "class DegScore():\n",
        "    def __init__(self, sequence, structure=None, mask_U=False, package='eternafold',\n",
        "        start_ind=None, end_ind=None, linear=False, coefficients=None, intercept=None):\n",
        "        '''Class to calculate DegScore-2.1, a ridge regression model to predict degradation.\n",
        "        H Wayment-Steele, 2020/2021.\n",
        "\n",
        "        Inputs:\n",
        "        sequence (str): RNA sequence\n",
        "        structure (str): RNA dot-bracket structure. If not provided and Arnie is provided,\n",
        "        will re-calculate based provided 'package' and 'linear' keywords.\n",
        "        mask_U (bool, default False): If True, sets U positions to zero to mimic pseudouridine stabilization.\n",
        "        start_ind: starting position to sum degscore (default 0).\n",
        "        end_ind: ending position to sum degscore (defuault len(sequence)).\n",
        "\n",
        "        Structure prediction options:\n",
        "        package: package to use to calculate MFE secondary structure (example options in Arnie: 'vienna', 'eternafold')\n",
        "        linear (bool): Use linearfold calculation (must be set up in Arnie.)\n",
        "\n",
        "        Regression options:\n",
        "        coefficients (list) (optional): coefficients from Ridge regression. Default is DegScore 2.1 coefficients.\n",
        "        intercept (float) (optional): intercept from Ridge regression. Default is DegScore 2.1 intercept.\n",
        "\n",
        "        Attributes:\n",
        "        loop_assignments (str): loop assignments:\n",
        "                    H: Hairpin, E: External, S: Stem, I: Internal, B: Bulge, M: Multiloop\n",
        "\n",
        "\t\tdegscore: DegScore (float), summed across all nucleotides.\n",
        "        degscore_by_position (vector): DegScore at each position.\n",
        "        est_k_deg (float): Estimated degradation rate (hrs^-1).\n",
        "        est_half_life (float): Estimated half life (hrs).\n",
        "\n",
        "        '''\n",
        "        self.sequence = sequence\n",
        "        if structure is not None:\n",
        "            self.structure = structure\n",
        "        else:\n",
        "            self.structure = mfe(sequence, package=package, linear=linear, viterbi=True)\n",
        "\n",
        "        assert len(self.sequence) == len(self.structure)\n",
        "\n",
        "        self.loop_assignments = write_loop_assignments(self.structure)\n",
        "\n",
        "        if coefficients is None:\n",
        "            self.coefficients_ =  coeffs_2_1\n",
        "        else:\n",
        "            self.coefficients_ = coefficients\n",
        "        if intercept is None:\n",
        "            self.intercept_ = 1.122\n",
        "        else:\n",
        "            self.intercept_ = intercept\n",
        "\n",
        "        if DEBUG: print(self.bprna_string)\n",
        "\n",
        "        self.encoding_ = encode_input(self.sequence, self.loop_assignments)\n",
        "\n",
        "        if DEBUG: print(\"encoding shape\", self.encoding_.shape)\n",
        "\n",
        "        self.degscore_by_position = np.sum(self.encoding_ * self.coefficients_, axis=1) + self.intercept_\n",
        "\n",
        "        if mask_U:\n",
        "            mask_inds = create_U_mask(self.sequence)\n",
        "\n",
        "            mask = np.ones(self.degscore_by_position.size, dtype=bool)\n",
        "            mask[mask_inds] = False\n",
        "            self.degscore_by_position[mask] = 0\n",
        "\n",
        "        if start_ind is None:\n",
        "            start_ind = 0\n",
        "        if end_ind is None:\n",
        "            end_ind = len(sequence)\n",
        "\n",
        "        self.degscore = np.sum([self.degscore_by_position[x] for x in range(start_ind, end_ind)])\n",
        "\n",
        "        self.est_k_deg = k_deg_m*self.degscore + k_deg_b\n",
        "\n",
        "        self.est_half_life = np.log(2)/self.est_k_deg"
      ],
      "metadata": {
        "colab": {
          "base_uri": "https://localhost:8080/"
        },
        "id": "2FXyMeh1xFzR",
        "outputId": "741188d0-9413-4c9f-85fe-1e5f0355a483"
      },
      "execution_count": null,
      "outputs": [
        {
          "output_type": "stream",
          "name": "stdout",
          "text": [
            "Warning: could not find Arnie for DegScore structure prediction.\n",
            "        Secondary structures must be input in DegScore class.\n"
          ]
        }
      ]
    },
    {
      "cell_type": "code",
      "source": [
        "def calculate_degratation(sequence: str, structure: str):\n",
        "    return DegScore(sequence, structure=structure)"
      ],
      "metadata": {
        "id": "2in6JX9UyyLJ"
      },
      "execution_count": null,
      "outputs": []
    },
    {
      "cell_type": "markdown",
      "source": [
        "## Calculate long sequence"
      ],
      "metadata": {
        "id": "gzi9paVTzyYc"
      }
    },
    {
      "cell_type": "code",
      "source": [
        "long_sequence = \"AATTGCATGCTAGCTAGAGAGGAGAGGATCGATCGACTGACGGATGTTTGTGATTGTAGTGTGATG\""
      ],
      "metadata": {
        "id": "Xk85XmONxvpi"
      },
      "execution_count": null,
      "outputs": []
    },
    {
      "cell_type": "code",
      "source": [
        "structural_info = linearfold(long_sequence)"
      ],
      "metadata": {
        "colab": {
          "base_uri": "https://localhost:8080/"
        },
        "id": "FwQ5aWmVx9sD",
        "outputId": "08f5455f-cacb-4e85-f527-cb284d6db8d3"
      },
      "execution_count": null,
      "outputs": [
        {
          "output_type": "stream",
          "name": "stdout",
          "text": [
            "b'AATTGCATGCTAGCTAGAGAGGAGAGGATCGATCGACTGACGGATGTTTGTGATTGTAGTGTGATG\\n......(((...........)))............(((((((((.((..(.((((((.(((((...((((((((.........)))))).))......))))))))))).)..)).)))).)))))......(((((((((.......))))).))))...(((((((((....))).)))))).........(((((...((((((.....)).))))...))))).........................................................(((((((((...................)))))))))....................................................((((.((((((.....((((.(((((((((..((((((...(((.......(((((((((.(.((((...(((((.((((((.....))))))..........))))))))).).)))).))))).......)))...)))))).....(((((..................(((((..........(((((.....)))))...........)))))............)))))))..))))...))).)))).((((((....((((((.((((..((((....)))).))))......)))))).((.(((((........))))).))...))))))...)))))))))).......................((((((..(.......)..)))))).....................................(((((((((.(((.(((((....((((((.((((((.((((......(((((....))))).(((((((((((...((((((....))))))........))))))).))))..((((((...((....))..)))))).)))))))))).((((.((((((.....)))))).))))))))))))))).(((...((((((((((.....)))))))))))))...))).))))))))).....((((((((.....((((((((.(((....)))))))))))...((((((..........(((((((((....)))))))))....))))))...))))))))......................................((.((((((((....................................................)))))))))).........................(((((((..(((((...................................))))))))))))......................(((((((((.........((((((.......)))))).......))))))))).............................((((((((((((((((((...(((((((((...(((((((..........((((..(((((((((......((((..............)))).....))))))))))))).......)))))))(((((.....((((.(.(((((......(((...(((..((((......)))).)))...)))......)))))...).))))(((((((.....))))))))))))..))))).)))).......))))))))....))))))).))).(((((.(((((.(((..(((..........((((((...((((((..((......((((.((((......)))).)))).....))(((((((((((((((.......)))))))......))))))))))))))..))))))..........(.(((((((.........))))))).))))..))).)))))((((((....)))))).........)))))............................................................(((((((.......((((((.....(((((.........))))).....)).))))................))))))).((((((..(((((((((.(((((........))))).)))))))))....))))))..........(((..(((((((.................)))))))..))).((((((((..........))))))))........((((..((((((............))))))))))...............................((((((..................))))))....................((((((((.....((.((....)).))...((((..((((((...((((.((((....))))))))))))))..)))).))))))))........................(((((((((((((((((..(.....((((.((((.((((((.((((.(((((......(((.........))).......)))))...(((...(((((.....(((((....((((((.......))))))((((((((((.....((((((((........))))))))...)))))..))))))))))......)))))...)))....((((((((..........((.((((((.........((((.(((((....(((((((((.....(((((...............)))))........((((((((((((((.....(((....)))....))))).)).)))))))..((((((((...........))).))))).)))))))))..))))).)))).)))))).))...((((((((.(.....).)))))))).....))).))))).....))))..)))))).))))))))....)..))))...........((((((.........)))))).)))))))))..)))).................((((((..((((((..........((((........(((....(((((((((((...((...(((((..(((((.(((((((....((((((................................................................................))))))....))))...((((((.((.......)).))))))..))).))))))))))....(((((((.................)))))))...))...)))))))))))....))).......)))).))))))....))))))............((((((((...))))))))..........................(((((.....(((((...........))))).....)))))...............(((((.(((((((((..((((((((.........(((.......))).(((((((((....((((((((((.(((((((((((((.((((.(....).)))).......((((((.(.((((..........((((.((((...((((((...((((........)))).)))))).....))))..))))......))))(((((((......))))))).....(((((((..........(((((.......(((((.((((.(((..............))).)))))))))....(((((((((.(((.........(((((((.((((((((....)))))))).......))))....)))((.((...(((((.....)))))...))..)))))..)))))))))...)))))...........))))))).....).))))))))))))))))...)))(((((((.(((((.(((((.................................))))).......((((((((((((((..(((((.....((((........(((((.((((....)))).)))))..........))))..(((.(((............(((((....)))))........)))..))).)))))....))))).)))))))))...(((((((((((((((((((.......)))))))))......((((((.((......)).))).))).............((((((..((((....(((((((............)))))))......((((((.((....((((....)))).(((((((.((((...................))))..))))))).))))))))))))..))))))..))))))))))....)))))....))))))).........))))))))))...........((((((.........................................................))))))...)))))))))..))))))))(((((((((((((..((.((((((((.........))))...)))).))....))))((((((.....((((.((((((........(((((((((((............................................................................)))..))))))))...........)))))).)))).)).))))))))))))).......))))))))))))))....((((((......(((((.......((((.(((((.((.((.(((((......((((((((.(((((.....((((.(((((((...(((((.((((((((.......((.((((.(((((((..............................................................................))))))).((((...(((.(((((....(((.......)))......)))))...)))...)))).)))).))...(((.(((((((((((.((((.............................................................................................................)))).))))).))))))))).......))))))))..((((..(((.(((.((........((((((((..((..((((.((((..((((...................................................))))))))..))))..)).))).))))))).))).)))..)))).)))))(((((......))))))))))))..))))..((.(((((..(((((.....................................)))))......)))))))...)))))..)))))))).....)))))......((.((...(((((((((.((((.......((.(((..((((.(((..((....((((.......))))..)).)))))))(((((.((((.....)))).)))))))).))....)))).))))......)))))...)).))...)).))..))))).))))...............)))))......(((((.((((((((((((((((((((((((.....................................................)))))))))).)))........)))))...)))))))))))...)))))).........................................................(((((....(((((((((((.((((............(((.......)))...(((((((((...(((((.((((.......((((((((((((((....(((.(((...........))))))..)))))))...((((.......))))...)))))))....))))..)))))((((((((((((...................................))))))).))))).......)))))))))..)))).))))))).)))).......)))))..............(((((((((((........))))))).))))......................(((((((.((((....(((((((((.((..((((...(((((((((((.(((.......((((....((((.(((.....((((((...((((.((((((.(((((..................(((((((...............................................................................................................................))))))))))))))))))..))))..)))))).....))).))))....((((..(((.....................................................................))).))))))))....((((((((..(((.(((........))).))).((((........................................................................................................))))...))))))))))).)))))))))))..))))(((((((((((((...........))))))))))))))).))).)))(((((.((((...((((((....(((((((((((((((((((((.(((.((.(((((((.(((((.....................(((((((((.......................((((.(((..(((((..(((((..(((.((((((((((..(((((.......)))))..)))))))))).)))......))))).....)))))))).)))).((((((((..............................................................................................)))))))))))))))))))))))))))))..)).)))................(((((((((((((((..(((((((........................................................................................................)))))))...))).....................((((((((((((((..(((.(((................................))).)))))))).......(((((((....((((((((...((..((((((..........))))))..)).....))))))))......((((.((((((.(......).)))))).))))((((((......))))))...))))))).....)))))))))..))))))........))))))((((((..((((..(((...........)))..))))..)))))))))))))))).......)))))))).)))..(((..(((((((...(((((((((((....(((((((.((((...........(((((((((.........(((((.......(((((.((((...((((((...))))))(((((....................)))))...))))..)))))....)))))....)))))))))......)))).)))))))......))))))..)))))....)))))))..)))))))))....)))).)))))((((....))))..)))......)))).)))))))................((((((.(((.....))).))))))......((.((((((((((((((.....)))))(((.((((((..(((((........((((((((((..(((..((.(.((((......(((((........)))))........)))).)...))..)))))))))))))..)))))...)))))).)))..))))))))).))...............(((((..(((((((((((((((.........(((((((......(((((...(((((..(((.((.................)).))).)))))..)))))..............((((((((((((..((((((((((((.((((((.((((((((.......))))........))))))))..))..))))))...((((..((....)))))).....))))))((......(((((((......((((((.(((...((((((...........))))))...))).))))))...((((.......)))).....))))))).....))....)))))))))))))))))))................))))..))))))).))))..)))))...(((.((((((.(((....((((((.....((((((((.......((((((((.((((((((.((.((((............((..(((((........))))).))..........)))).)).)))))))).)))........))))).......))))))))....))))))..))))))))).)))..((((..((((......))))..)))).......................((((((.((((..(((((.(((((..((........))(((((((((...................................)))))))))))))).)))))....)))).))))))...........................(((((......(((((((...)))))))....))))).............(((((((.....(((((((.....((((((...))))..)).....)))))))....))))))).........(((.((((......(((((((.................................................................................))))))).......)))).)))..............(((..(((((((...........)))))))..)))................((((((...((.(((.......(((((((((((...(((((((.((.(((((((((.(((((......((((((..................................................)))))).(((....))).....))))))))))))))..)).)))))))...((((((((((.(((((...................))))).))..))))))))......................)))))))))))))).))..))))))...............................................................(((((((.(((....(((.(((((((....))))))))))....))).)))))))............................((((((.(((...)))))))))....(((((((.(((((((..(((.(((......))).))).....)))))))))))))).........((((((((.......((((((...(((((((.(((((.((((..(((.((.((((((.(((((.....))))))))))))))))..)))).)))))..)))))))...)))))).))))))))(((((((((....))))))))).((((((.......((((((.(((((.(....((((.((........((((((..((((((..................................)))))).))))))...........)).))))......).)))))))))))....)))))).............((((.(((((.((((((((..((((((...(((((((.....((((.(((...(.((((((((((((((......(((((...((((((.(((((......))))).)))))))))))...(((.....)))..)))))))))..........))))).))))..)))).....)))))))..))))((.(((((((.(((((..((((((.((((((((((..((..((.((((....)))).)).((((.(((((((...((((............................................))))....)))))))))))))..)))))(((.((((((((.(((((((.....((((((......))))))..((((((((((.((.(((.((.(((..((...(((.((((.......((((........)))))))).))))).))).)).(((((((((((.(((...))).))))))).))))))).)).)))))))))).((((((.........................................))))))......))))))).))(((((..((.(((((..((((......)))).))))).))......)))))))))))))).....)))))(((......)))....))))))...))))).)))...)))).))....))..)))...)))))...))))).)))).........................(((((.......))))).(((((...((((((((.((((((((....)))).))))..))))))))....)))))................................................((((.(((.((....((((((..(((((.(((((((((((((.(((((((((((.....)))))))))))))...........))))))..........................))))))))))))))))..)).)))..))))............((((((.........))))))............((((((.......))))))..................................................................................................... (731.22)\\n'\n",
            "b''\n"
          ]
        }
      ]
    },
    {
      "cell_type": "code",
      "source": [
        "degradation_info = calculate_degratation(\n",
        "        long_sequence,\n",
        "        structural_info.structure\n",
        "  )"
      ],
      "metadata": {
        "id": "6Xby2pPCybar"
      },
      "execution_count": null,
      "outputs": []
    },
    {
      "cell_type": "code",
      "source": [
        "print('Half-life:', degradation_info.est_half_life)\n",
        "print('Degscore:', degradation_info.degscore)\n",
        "print('MFE:', structural_info.mfe)"
      ],
      "metadata": {
        "colab": {
          "base_uri": "https://localhost:8080/"
        },
        "id": "2RtXrdAJy1Nh",
        "outputId": "ff678656-1a5b-4bd3-8e8c-e767a578c138"
      },
      "execution_count": null,
      "outputs": [
        {
          "output_type": "stream",
          "name": "stdout",
          "text": [
            "Half-life: 0.05875283675563987\n",
            "Degscore: 5410.267000000002\n",
            "MFE: 731.22\n"
          ]
        }
      ]
    }
  ]
}
